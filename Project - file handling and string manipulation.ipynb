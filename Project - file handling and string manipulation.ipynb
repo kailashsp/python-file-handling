{
 "cells": [
  {
   "cell_type": "code",
   "execution_count": 13,
   "id": "d878afaf",
   "metadata": {},
   "outputs": [],
   "source": [
    "#data science project 1"
   ]
  },
  {
   "cell_type": "code",
   "execution_count": 14,
   "id": "a3f78db2",
   "metadata": {},
   "outputs": [],
   "source": [
    "script_text = open('datasets/conv.txt','r')"
   ]
  },
  {
   "cell_type": "code",
   "execution_count": 15,
   "id": "b33b1e75",
   "metadata": {},
   "outputs": [],
   "source": [
    "l_speakers = [] #list to store all speakers\n",
    "d_speakers = [] #list to store all dialogues"
   ]
  },
  {
   "cell_type": "code",
   "execution_count": null,
   "id": "3e56b793",
   "metadata": {},
   "outputs": [],
   "source": []
  },
  {
   "cell_type": "code",
   "execution_count": 18,
   "id": "993ad310",
   "metadata": {},
   "outputs": [],
   "source": [
    "for line in script_text:\n",
    "    line = line.replace(':','')  \n",
    "    line = line.replace('.','')\n",
    "    line = line.replace(',','')\n",
    "    line = line.replace(\"'s\",'')   #removing the punctuations\n",
    "    word = line.split()     #separating each word in a line\n",
    "    if word:       #to ignore empty space\n",
    "        speaker = word[0]\n",
    "        l_speakers.append(speaker) #list of all speakers\n",
    "        d_speakers.append(word)   #list of all dialogues       \n",
    "    "
   ]
  },
  {
   "cell_type": "code",
   "execution_count": 21,
   "id": "6f7c2b3c",
   "metadata": {},
   "outputs": [],
   "source": [
    "script_text.close()"
   ]
  },
  {
   "cell_type": "code",
   "execution_count": 22,
   "id": "f66e7f86",
   "metadata": {},
   "outputs": [],
   "source": [
    "#finding the unique speakers"
   ]
  },
  {
   "cell_type": "code",
   "execution_count": 23,
   "id": "efec922e",
   "metadata": {},
   "outputs": [],
   "source": [
    "l_speaker_updated = []  #unique speaker list\n",
    "\n",
    "\n",
    "for i in l_speakers:\n",
    "    if i not in l_speaker_updated:\n",
    "        l_speaker_updated.append(i)\n",
    "        "
   ]
  },
  {
   "cell_type": "code",
   "execution_count": 24,
   "id": "b3e46305",
   "metadata": {},
   "outputs": [
    {
     "data": {
      "text/plain": [
       "['WAYMAR',\n",
       " 'WILL',\n",
       " 'GARED',\n",
       " 'ROYCE',\n",
       " 'JON',\n",
       " 'SEPTA',\n",
       " 'SANSA',\n",
       " 'NED',\n",
       " 'ROBB',\n",
       " 'CASSEL',\n",
       " 'CATELYN',\n",
       " 'BRAN',\n",
       " 'THEON',\n",
       " 'CERSEI',\n",
       " 'JAIME',\n",
       " 'ROBERT',\n",
       " 'ARYA']"
      ]
     },
     "execution_count": 24,
     "metadata": {},
     "output_type": "execute_result"
    }
   ],
   "source": [
    "l_speaker_updated"
   ]
  },
  {
   "cell_type": "code",
   "execution_count": 25,
   "id": "5d08eba8",
   "metadata": {},
   "outputs": [],
   "source": [
    "number_of_uniquespeakers = len(l_speaker_updated)"
   ]
  },
  {
   "cell_type": "code",
   "execution_count": 26,
   "id": "c0b28756",
   "metadata": {},
   "outputs": [
    {
     "data": {
      "text/plain": [
       "17"
      ]
     },
     "execution_count": 26,
     "metadata": {},
     "output_type": "execute_result"
    }
   ],
   "source": [
    "number_of_uniquespeakers"
   ]
  },
  {
   "cell_type": "code",
   "execution_count": null,
   "id": "e2042d0b",
   "metadata": {},
   "outputs": [],
   "source": []
  },
  {
   "cell_type": "code",
   "execution_count": null,
   "id": "2af8c68a",
   "metadata": {},
   "outputs": [],
   "source": [
    "from functools import reduce"
   ]
  },
  {
   "cell_type": "code",
   "execution_count": null,
   "id": "fdeed2fb",
   "metadata": {},
   "outputs": [],
   "source": [
    "#store words spoken line by line - each speaker\n",
    "\n",
    "for name in l_updated:\n",
    "    for conv in d:\n",
    "            if name == conv[0]:\n",
    "                name_speaker = open('project/'+ str(name)+'not unique.txt','a+')  # text file to store words by line\n",
    "                \n",
    "                name_speaker2 = open('project/'+ str(name)+'.txt','a+') # text file to store unique words\n",
    "                \n",
    "                name_speaker.write(str(reduce(lambda x,y: x + '\\n'+ y +'\\n',conv[1:]))) \n",
    "                \n",
    "                unique_file('project/'+ str(name)+'not unique.txt','project/'+ str(name)+'.txt')\n",
    "                "
   ]
  },
  {
   "cell_type": "code",
   "execution_count": null,
   "id": "518b028b",
   "metadata": {},
   "outputs": [],
   "source": []
  },
  {
   "cell_type": "code",
   "execution_count": null,
   "id": "ebcff8a9",
   "metadata": {},
   "outputs": [],
   "source": []
  },
  {
   "cell_type": "code",
   "execution_count": null,
   "id": "972afdc2",
   "metadata": {},
   "outputs": [],
   "source": []
  },
  {
   "cell_type": "code",
   "execution_count": null,
   "id": "f40d644b",
   "metadata": {},
   "outputs": [],
   "source": []
  }
 ],
 "metadata": {
  "kernelspec": {
   "display_name": "Python 3",
   "language": "python",
   "name": "python3"
  },
  "language_info": {
   "codemirror_mode": {
    "name": "ipython",
    "version": 3
   },
   "file_extension": ".py",
   "mimetype": "text/x-python",
   "name": "python",
   "nbconvert_exporter": "python",
   "pygments_lexer": "ipython3",
   "version": "3.9.4"
  }
 },
 "nbformat": 4,
 "nbformat_minor": 5
}
