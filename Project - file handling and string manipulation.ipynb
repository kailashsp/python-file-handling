{
 "cells": [
  {
   "cell_type": "code",
   "execution_count": 1,
   "id": "7e50f3a3",
   "metadata": {},
   "outputs": [],
   "source": [
    "#data science project 1"
   ]
  },
  {
   "cell_type": "code",
   "execution_count": 2,
   "id": "87db848c",
   "metadata": {},
   "outputs": [],
   "source": [
    "script_text = open('datasets/conv.txt','r')"
   ]
  },
  {
   "cell_type": "code",
   "execution_count": 4,
   "id": "e3c959e6",
   "metadata": {},
   "outputs": [],
   "source": [
    "l_speakers = [] #list to store all speakers\n",
    "d_speakers = [] #list to store all dialogues"
   ]
  },
  {
   "cell_type": "code",
   "execution_count": null,
   "id": "54b86f69",
   "metadata": {},
   "outputs": [],
   "source": []
  },
  {
   "cell_type": "code",
   "execution_count": null,
   "id": "7672a5f2",
   "metadata": {},
   "outputs": [],
   "source": [
    "for line in script_text:\n",
    "    line = line.replace(':','')  \n",
    "    line = line.replace('.','')\n",
    "    line = line.replace(',','')\n",
    "    line = line.replace(\"'s\",'')   #removing the punctuations\n",
    "    word = line.split()     #separating each word in a line\n",
    "    if words:       #to ignore empty space\n",
    "        speaker = word[0]\n",
    "        l_speaker.append(speaker) #list of all speakers\n",
    "        d_speaker.append(words)   #list of all dialogues       \n",
    "    "
   ]
  },
  {
   "cell_type": "code",
   "execution_count": null,
   "id": "39f38b61",
   "metadata": {},
   "outputs": [],
   "source": []
  },
  {
   "cell_type": "code",
   "execution_count": null,
   "id": "6c44892a",
   "metadata": {},
   "outputs": [],
   "source": []
  },
  {
   "cell_type": "code",
   "execution_count": null,
   "id": "bd4396d8",
   "metadata": {},
   "outputs": [],
   "source": []
  },
  {
   "cell_type": "code",
   "execution_count": null,
   "id": "82eadf4e",
   "metadata": {},
   "outputs": [],
   "source": []
  },
  {
   "cell_type": "code",
   "execution_count": null,
   "id": "85b463ff",
   "metadata": {},
   "outputs": [],
   "source": []
  },
  {
   "cell_type": "code",
   "execution_count": null,
   "id": "7487ad13",
   "metadata": {},
   "outputs": [],
   "source": []
  },
  {
   "cell_type": "code",
   "execution_count": null,
   "id": "dd05eda7",
   "metadata": {},
   "outputs": [],
   "source": []
  }
 ],
 "metadata": {
  "kernelspec": {
   "display_name": "Python 3",
   "language": "python",
   "name": "python3"
  },
  "language_info": {
   "codemirror_mode": {
    "name": "ipython",
    "version": 3
   },
   "file_extension": ".py",
   "mimetype": "text/x-python",
   "name": "python",
   "nbconvert_exporter": "python",
   "pygments_lexer": "ipython3",
   "version": "3.9.4"
  }
 },
 "nbformat": 4,
 "nbformat_minor": 5
}
