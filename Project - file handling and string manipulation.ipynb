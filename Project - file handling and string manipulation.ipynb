{
 "cells": [
  {
   "cell_type": "code",
   "execution_count": 1,
   "id": "d035c79b",
   "metadata": {},
   "outputs": [],
   "source": [
    "#data science project 1"
   ]
  },
  {
   "cell_type": "code",
   "execution_count": 2,
   "id": "a1de3c11",
   "metadata": {},
   "outputs": [],
   "source": [
    "script_text = open('datasets/conv.txt','r')"
   ]
  },
  {
   "cell_type": "code",
   "execution_count": 4,
   "id": "de8a16b7",
   "metadata": {},
   "outputs": [],
   "source": [
    "l_speakers = [] #list of all speakers\n",
    "d_speakers = [] #list of all dialogues"
   ]
  },
  {
   "cell_type": "code",
   "execution_count": null,
   "id": "9526c041",
   "metadata": {},
   "outputs": [],
   "source": []
  },
  {
   "cell_type": "code",
   "execution_count": null,
   "id": "528ee41a",
   "metadata": {},
   "outputs": [],
   "source": [
    "for line in script_text:\n",
    "    line = line.replace(':','')  \n",
    "    line = line.replace('.','')\n",
    "    line = line.replace(',','')\n",
    "    line = line.replace(\"'s\",'')   #removing the punctuations\n",
    "    \n",
    "    "
   ]
  },
  {
   "cell_type": "code",
   "execution_count": null,
   "id": "a1df3964",
   "metadata": {},
   "outputs": [],
   "source": []
  },
  {
   "cell_type": "code",
   "execution_count": null,
   "id": "e86f4499",
   "metadata": {},
   "outputs": [],
   "source": []
  },
  {
   "cell_type": "code",
   "execution_count": null,
   "id": "72e045a2",
   "metadata": {},
   "outputs": [],
   "source": []
  },
  {
   "cell_type": "code",
   "execution_count": null,
   "id": "76485603",
   "metadata": {},
   "outputs": [],
   "source": []
  },
  {
   "cell_type": "code",
   "execution_count": null,
   "id": "0a9fd6c8",
   "metadata": {},
   "outputs": [],
   "source": []
  },
  {
   "cell_type": "code",
   "execution_count": null,
   "id": "4dc7dfc9",
   "metadata": {},
   "outputs": [],
   "source": []
  },
  {
   "cell_type": "code",
   "execution_count": null,
   "id": "60ec46ed",
   "metadata": {},
   "outputs": [],
   "source": []
  }
 ],
 "metadata": {
  "kernelspec": {
   "display_name": "Python 3",
   "language": "python",
   "name": "python3"
  },
  "language_info": {
   "codemirror_mode": {
    "name": "ipython",
    "version": 3
   },
   "file_extension": ".py",
   "mimetype": "text/x-python",
   "name": "python",
   "nbconvert_exporter": "python",
   "pygments_lexer": "ipython3",
   "version": "3.9.4"
  }
 },
 "nbformat": 4,
 "nbformat_minor": 5
}
